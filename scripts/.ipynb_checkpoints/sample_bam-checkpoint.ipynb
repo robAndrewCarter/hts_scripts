{
 "cells": [
  {
   "cell_type": "code",
   "execution_count": null,
   "metadata": {
    "collapsed": true
   },
   "outputs": [],
   "source": [
    "#__version__= 0.1"
   ]
  },
  {
   "cell_type": "code",
   "execution_count": 1,
   "metadata": {
    "collapsed": true
   },
   "outputs": [],
   "source": [
    "import argparse, pysam, logging, subprocess,  tempfile, re, os"
   ]
  },
  {
   "cell_type": "code",
   "execution_count": 6,
   "metadata": {
    "collapsed": false
   },
   "outputs": [],
   "source": [
    "def parse_args():\n",
    "    parser = argparse.ArgumentParser(description='''\n",
    "                                     This script takes a bam filename and a series of requested read numbers.\n",
    "                                     It then samples mapped read pairs and generates new subsampled bam files \n",
    "                                     with the desired number of reads. If mapped reads pairs are present (and\n",
    "                                     uniquely mapped), the pair is randomly selected and written.''')\n",
    "    parser.add_argument('bam_filename', help='Name of bam file to subsample')\n",
    "    parser.add_argument('-o', '--output_dir', help='Optional output directory. If omitted, bams are written to the current directory')\n",
    "    parser.add_argument('sample_x_n', nargs='+', help='''\n",
    "    Number of reads to sample and number of sampled bams to generate. Multiple entries can be given. \n",
    "    For example, sample_bams.py test.bam 1000x5 10000x2 will generate 5 bams with 1000 reads and 2 bams with 10000 reads\n",
    "    ''')\n",
    "    args = parser.parse_args()\n",
    "    \n",
    "    args.output_dir = '' if args.output_dir is None else args.output_dir\n",
    "    print \"FOO!\"\n",
    "    return args\n",
    "    #return dict(args)"
   ]
  },
  {
   "cell_type": "code",
   "execution_count": 3,
   "metadata": {
    "collapsed": false
   },
   "outputs": [],
   "source": [
    "def sample_and_write_file(bam_in_filename, bam_out_filename, sample_probability):\n",
    "    \"\"\"\n",
    "    This function randomly selects read pairs based on the provided sample probability and writes these to bam_out_filename.\n",
    "    Every time it encounters a read thast is not in encountered_readnames_set, it selects it based on the provided probability\n",
    "    and then adds its query name to the encountered_readnames_set if selected. Whenever a read is encountered it is automatically\n",
    "    written if it's query name is in encountered_readnames_set, which is followed by removal of the read query name from \n",
    "    encountered_readnames_set.\n",
    "    \n",
    "    Potential problems to be aware of:\n",
    "    1) Query names are matched exactly, so if there are read direction suffixes (e.g. /1 and /2), then no mates will ever be found.\n",
    "       This will result in an ever expanding encountered_readnames_set --possibly resulting in exhausting the system's memory-- and \n",
    "       and a set of reads with some paired (by chance selection) and some not paired.\n",
    "    2) If read pairs are mapped more non-uniquely, then each pair of encountered read names will be treated as unique paired reads.\n",
    "       This is because after encountering the matched query, the query name will be cleared from encountered_readnames_set so the \n",
    "       next encounter of a read from this pair will be treated as the first read in a newly enountered read pair.\n",
    "\n",
    "    \"\"\"\n",
    "    import random\n",
    "    encountered_readnames_set = set()\n",
    "    bam_in = pysam.AlignmentFile(bam_in_filename, 'rb')\n",
    "    bam_out = pysam.AlignmentFile(bam_out_filename, 'wb', template = bam_in)\n",
    "    \n",
    "    for _read in bam_in.fetch():\n",
    "        if _read in encountered_readnames_set:\n",
    "            bam_out.write(_read)\n",
    "            #Remove from set ONLY if read pair occurs ONCE in bam, so not if  using gmapper for example\n",
    "            encountered_readnames_set.remove(_read.qname)\n",
    "        else:\n",
    "            if random.uniform(0,1) <= sample_probability:\n",
    "                bam_out.write(_read)\n",
    "                encountered_readnames_set.add(_read.qname)\n",
    "    return True       "
   ]
  },
  {
   "cell_type": "code",
   "execution_count": 17,
   "metadata": {
    "collapsed": true
   },
   "outputs": [],
   "source": [
    "def get_sorted_list_of_sample_bam_lengths(sample_x_n_list):\n",
    "    '''\n",
    "    This function takes a list of sample_x_n (e.g. [1000x2, 100x3]) and converts it to a sorted list of desired bam read lengthd.\n",
    "    For the above example, the returned list would be [100, 100, 100, 10000, 10000]\n",
    "    This function has no side effects\n",
    "    '''\n",
    "    lengths_list = []\n",
    "    for _element in sample_x_n_list:\n",
    "        nreads_to_nsamples_list = map(int, _element.split(\"x\"))\n",
    "        lengths_list += [nreads_to_nsamples_list[0]]*nreads_to_nsamples_list[1]\n",
    "    return sorted(lengths_list)"
   ]
  },
  {
   "cell_type": "code",
   "execution_count": 21,
   "metadata": {
    "collapsed": false
   },
   "outputs": [],
   "source": [
    "def get_mapped_paired_read_count(bam_filename):\n",
    "    \"\"\"\n",
    "    This function determines the number of mapped reads in a bam file. \n",
    "    It calls samtools flagstat, reads stdout, then pulls the first word (the read count) from the third line after verifying it contains the \n",
    "    word 'mapped'. The count is returned as an integer\n",
    "    \"\"\"\n",
    "    flagstat_list = subprocess.check_output(['samtools', 'flagstat', bam_filename]).split(\"\\n\")\n",
    "    if \"supplementary\" in flagstat_list[2]:\n",
    "        assert re.search('mapped', flagstat_list[4])\n",
    "        return int(flagstat_list[4].split(\" \")[0])\n",
    "    else:\n",
    "        assert re.search('mapped', flagstat_list[2])\n",
    "        return int(flagstat_list[2].split(\" \")[0])"
   ]
  },
  {
   "cell_type": "code",
   "execution_count": 85,
   "metadata": {
    "collapsed": false,
    "scrolled": true
   },
   "outputs": [
    {
     "ename": "NameError",
     "evalue": "name 'parse_args' is not defined",
     "output_type": "error",
     "traceback": [
      "\u001b[1;31m---------------------------------------------------------------------------\u001b[0m",
      "\u001b[1;31mNameError\u001b[0m                                 Traceback (most recent call last)",
      "\u001b[1;32m<ipython-input-85-5acc63245092>\u001b[0m in \u001b[0;36m<module>\u001b[1;34m()\u001b[0m\n\u001b[0;32m      1\u001b[0m \u001b[1;32mif\u001b[0m \u001b[0m__name__\u001b[0m \u001b[1;33m==\u001b[0m \u001b[1;34m'__main__'\u001b[0m\u001b[1;33m:\u001b[0m\u001b[1;33m\u001b[0m\u001b[0m\n\u001b[1;32m----> 2\u001b[1;33m     \u001b[0margs\u001b[0m \u001b[1;33m=\u001b[0m \u001b[0mparse_args\u001b[0m\u001b[1;33m(\u001b[0m\u001b[1;33m)\u001b[0m\u001b[1;33m\u001b[0m\u001b[0m\n\u001b[0m\u001b[0;32m      3\u001b[0m     \u001b[1;32mprint\u001b[0m \u001b[0margs\u001b[0m\u001b[1;33m\u001b[0m\u001b[0m\n\u001b[0;32m      4\u001b[0m     \u001b[1;32mprint\u001b[0m \u001b[1;34m'hello!'\u001b[0m\u001b[1;33m\u001b[0m\u001b[0m\n\u001b[0;32m      5\u001b[0m     \u001b[0mn_mapped_reads\u001b[0m \u001b[1;33m=\u001b[0m \u001b[0mget_mapped_read_count\u001b[0m\u001b[1;33m(\u001b[0m\u001b[0margs\u001b[0m\u001b[1;33m.\u001b[0m\u001b[0mbam_filename\u001b[0m\u001b[1;33m)\u001b[0m\u001b[1;33m\u001b[0m\u001b[0m\n",
      "\u001b[1;31mNameError\u001b[0m: name 'parse_args' is not defined"
     ]
    }
   ],
   "source": [
    "if __name__ == '__main__':\n",
    "    args = parse_args()\n",
    "    print args\n",
    "    print 'hello!'\n",
    "    n_mapped_reads = get_mapped_paired_read_count(args.bam_filename)\n",
    "    sorted_bam_lengths_list = get_sorted_list_of_sample_bam_lengths(args.sample_x_n)\n",
    "    num_samples = len(sorted_bam_lengths_list)\n",
    "    for _bam_length_index in range(0, num_samples):\n",
    "        bam_length = sorted_bam_lengths_list[_bam_length_index]\n",
    "        if bam_length > n_mapped_reads:\n",
    "            sys.exit('The number of reads to sample must be less than the number of mapped reads in the bam [n={}]'.format(str(n_mapped_reads)))\n",
    "        bam_out_filename = os.path.join(args.output_dir,re.sub(\".bam\", \"\", os.path.basename(args.bam_filename)) + \"_sample_\" + \"{:0>5d}\".format(_bam_length_index) + \"_n\" + str(bam_length) + \".bam\")\n",
    "        sample_and_write_file(args.bam_filename, bam_out_filename, float(bam_length)/(n_mapped_reads))"
   ]
  }
 ],
 "metadata": {
  "kernelspec": {
   "display_name": "Python 2",
   "language": "python",
   "name": "python2"
  },
  "language_info": {
   "codemirror_mode": {
    "name": "ipython",
    "version": 2
   },
   "file_extension": ".py",
   "mimetype": "text/x-python",
   "name": "python",
   "nbconvert_exporter": "python",
   "pygments_lexer": "ipython2",
   "version": "2.7.3"
  }
 },
 "nbformat": 4,
 "nbformat_minor": 0
}
